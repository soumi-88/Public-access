{
    "cells": [
        {
            "metadata": {
                "collapsed": true
            },
            "cell_type": "markdown",
            "source": "# My Jupyter Notebook on IBM Watson Studio"
        },
        {
            "metadata": {},
            "cell_type": "markdown",
            "source": "__Soumaya Tayachi__\nCurrent occuption in aviation\n"
        },
        {
            "metadata": {},
            "cell_type": "markdown",
            "source": "_I am interested in data science because i find it very interested to work in a field withing which you can actually impact the future, making insightful analysis and prediction can help with many of the challenges we face either on a daily basis, or globaly as a race._"
        },
        {
            "metadata": {},
            "cell_type": "markdown",
            "source": "### The next cell is a greeting to you all."
        },
        {
            "metadata": {},
            "cell_type": "code",
            "source": "print (\"Hello everyone\")",
            "execution_count": 2,
            "outputs": [
                {
                    "output_type": "stream",
                    "text": "Hello everyone\n",
                    "name": "stdout"
                }
            ]
        },
        {
            "metadata": {},
            "cell_type": "markdown",
            "source": "This cell must include at least 3 of the following: horizontal rule.\n***\nThis cell must include at least 3 of the following: horizontal rule.\n\n> This cell must include at least 3 of the following: bulleted list.\n> This cell must include at least 3 of the following: bulleted list.\n\n1. This cell must include at least 3 of the following: numbered list.\n2. This cell must include at least 3 of the following: numbered list.\n  "
        }
    ],
    "metadata": {
        "kernelspec": {
            "name": "python39",
            "display_name": "Python 3.9 with Spark",
            "language": "python3"
        },
        "language_info": {
            "name": "python",
            "version": "3.9.7",
            "mimetype": "text/x-python",
            "codemirror_mode": {
                "name": "ipython",
                "version": 3
            },
            "pygments_lexer": "ipython3",
            "nbconvert_exporter": "python",
            "file_extension": ".py"
        }
    },
    "nbformat": 4,
    "nbformat_minor": 1
}